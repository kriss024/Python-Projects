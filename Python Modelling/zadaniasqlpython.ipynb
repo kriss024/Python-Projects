{
 "cells": [
  {
   "cell_type": "markdown",
   "metadata": {},
   "source": [
    "Zadanie 1.\n",
    "\n",
    "Powtórz przykład ze zbiorem Iris, ale podziel dane na treningowe i testowe (np. 80% i 20%). Wykorzystaj\n",
    "\n",
    "from sklearn.model_selection import train_test_split\n",
    "\n",
    "Naucz model i sprawdź jego skuteczność na zbiorze testowym przy pomocy funkcji/metod z sklearn.metrics\n",
    "\n",
    "confusion_matrix\n",
    "accuracy_score\n",
    "classification_report"
   ]
  },
  {
   "cell_type": "code",
   "execution_count": 1,
   "metadata": {},
   "outputs": [],
   "source": [
    "import numpy as np\n",
    "import pandas as pd\n",
    "import seaborn as sns\n",
    "from sklearn.model_selection import train_test_split\n",
    "from sklearn.metrics import confusion_matrix, accuracy_score, classification_report\n",
    "from sklearn.tree import DecisionTreeClassifier, export_text"
   ]
  },
  {
   "cell_type": "code",
   "execution_count": 2,
   "metadata": {},
   "outputs": [],
   "source": [
    "iris = sns.load_dataset(\"iris\")"
   ]
  },
  {
   "cell_type": "code",
   "execution_count": 3,
   "metadata": {},
   "outputs": [],
   "source": [
    "X = iris.drop('species', axis=1)\n",
    "y = iris['species']"
   ]
  },
  {
   "cell_type": "code",
   "execution_count": 4,
   "metadata": {},
   "outputs": [],
   "source": [
    "X_train, X_test, y_train, y_test = train_test_split(X, y, test_size=0.2, random_state=1)"
   ]
  },
  {
   "cell_type": "code",
   "execution_count": 5,
   "metadata": {},
   "outputs": [
    {
     "data": {
      "text/plain": [
       "DecisionTreeClassifier()"
      ]
     },
     "execution_count": 5,
     "metadata": {},
     "output_type": "execute_result"
    }
   ],
   "source": [
    "classifier = DecisionTreeClassifier()\n",
    "classifier.fit(X_train, y_train)"
   ]
  },
  {
   "cell_type": "code",
   "execution_count": 6,
   "metadata": {},
   "outputs": [
    {
     "name": "stdout",
     "output_type": "stream",
     "text": [
      "|--- petal_width <= 0.80\n",
      "|   |--- class: setosa\n",
      "|--- petal_width >  0.80\n",
      "|   |--- petal_width <= 1.65\n",
      "|   |   |--- petal_length <= 4.95\n",
      "|   |   |   |--- class: versicolor\n",
      "|   |   |--- petal_length >  4.95\n",
      "|   |   |   |--- sepal_length <= 6.05\n",
      "|   |   |   |   |--- sepal_width <= 2.45\n",
      "|   |   |   |   |   |--- class: virginica\n",
      "|   |   |   |   |--- sepal_width >  2.45\n",
      "|   |   |   |   |   |--- class: versicolor\n",
      "|   |   |   |--- sepal_length >  6.05\n",
      "|   |   |   |   |--- class: virginica\n",
      "|   |--- petal_width >  1.65\n",
      "|   |   |--- petal_length <= 4.85\n",
      "|   |   |   |--- sepal_width <= 3.10\n",
      "|   |   |   |   |--- class: virginica\n",
      "|   |   |   |--- sepal_width >  3.10\n",
      "|   |   |   |   |--- class: versicolor\n",
      "|   |   |--- petal_length >  4.85\n",
      "|   |   |   |--- class: virginica\n",
      "\n"
     ]
    }
   ],
   "source": [
    "feature_names = X.columns.tolist()\n",
    "text_representation = export_text(classifier, feature_names=feature_names)\n",
    "print(text_representation)"
   ]
  },
  {
   "cell_type": "code",
   "execution_count": 7,
   "metadata": {},
   "outputs": [],
   "source": [
    "y_pred = classifier.predict(X_test)"
   ]
  },
  {
   "cell_type": "code",
   "execution_count": 8,
   "metadata": {},
   "outputs": [
    {
     "name": "stdout",
     "output_type": "stream",
     "text": [
      "[[11  0  0]\n",
      " [ 0 12  1]\n",
      " [ 0  0  6]]\n",
      "Accuracy: 0.9666666666666667\n",
      "              precision    recall  f1-score   support\n",
      "\n",
      "      setosa       1.00      1.00      1.00        11\n",
      "  versicolor       1.00      0.92      0.96        13\n",
      "   virginica       0.86      1.00      0.92         6\n",
      "\n",
      "    accuracy                           0.97        30\n",
      "   macro avg       0.95      0.97      0.96        30\n",
      "weighted avg       0.97      0.97      0.97        30\n",
      "\n"
     ]
    }
   ],
   "source": [
    "print(confusion_matrix(y_test, y_pred))\n",
    "print('Accuracy: '+str(accuracy_score(y_test, y_pred)))\n",
    "print(classification_report(y_test, y_pred))"
   ]
  },
  {
   "cell_type": "markdown",
   "metadata": {},
   "source": [
    "Zadanie 2.  Wczytaj do bazy (np. PythonML) dane z pliku weight.csv.\n",
    "\n",
    "Prześlij dane kolumn Gender, Weight, Height do Pythona. Wylosuj z danych około 1000 osób. Podziel ten zbiór na dane treningowe i testowe. Z biblioteki sklearn.linear_model zaimportuj LogisticRegression. Naucz model na danych treningowych i sprawdź jego przewidywania dla danych testowych. Wypisz wyniki ewaluacji modelu tak jak w zadaniu 1."
   ]
  },
  {
   "cell_type": "code",
   "execution_count": 9,
   "metadata": {},
   "outputs": [
    {
     "data": {
      "text/html": [
       "<div>\n",
       "<style scoped>\n",
       "    .dataframe tbody tr th:only-of-type {\n",
       "        vertical-align: middle;\n",
       "    }\n",
       "\n",
       "    .dataframe tbody tr th {\n",
       "        vertical-align: top;\n",
       "    }\n",
       "\n",
       "    .dataframe thead th {\n",
       "        text-align: right;\n",
       "    }\n",
       "</style>\n",
       "<table border=\"1\" class=\"dataframe\">\n",
       "  <thead>\n",
       "    <tr style=\"text-align: right;\">\n",
       "      <th></th>\n",
       "      <th>Gender</th>\n",
       "      <th>Age</th>\n",
       "      <th>Weight</th>\n",
       "      <th>Height</th>\n",
       "      <th>Leg_Length</th>\n",
       "      <th>Arm_Length</th>\n",
       "      <th>Arm_circum</th>\n",
       "      <th>Waist</th>\n",
       "    </tr>\n",
       "  </thead>\n",
       "  <tbody>\n",
       "    <tr>\n",
       "      <th>0</th>\n",
       "      <td>0</td>\n",
       "      <td>241</td>\n",
       "      <td>64.7</td>\n",
       "      <td>163</td>\n",
       "      <td>34.2</td>\n",
       "      <td>36.2</td>\n",
       "      <td>29.0</td>\n",
       "      <td>89.6</td>\n",
       "    </tr>\n",
       "    <tr>\n",
       "      <th>1</th>\n",
       "      <td>0</td>\n",
       "      <td>241</td>\n",
       "      <td>54.0</td>\n",
       "      <td>153</td>\n",
       "      <td>37.2</td>\n",
       "      <td>34.0</td>\n",
       "      <td>26.1</td>\n",
       "      <td>85.5</td>\n",
       "    </tr>\n",
       "    <tr>\n",
       "      <th>2</th>\n",
       "      <td>1</td>\n",
       "      <td>241</td>\n",
       "      <td>61.4</td>\n",
       "      <td>165</td>\n",
       "      <td>37.7</td>\n",
       "      <td>35.0</td>\n",
       "      <td>31.4</td>\n",
       "      <td>70.1</td>\n",
       "    </tr>\n",
       "    <tr>\n",
       "      <th>3</th>\n",
       "      <td>0</td>\n",
       "      <td>241</td>\n",
       "      <td>74.0</td>\n",
       "      <td>171</td>\n",
       "      <td>37.9</td>\n",
       "      <td>36.2</td>\n",
       "      <td>29.8</td>\n",
       "      <td>91.1</td>\n",
       "    </tr>\n",
       "    <tr>\n",
       "      <th>4</th>\n",
       "      <td>0</td>\n",
       "      <td>241</td>\n",
       "      <td>63.6</td>\n",
       "      <td>159</td>\n",
       "      <td>38.1</td>\n",
       "      <td>34.0</td>\n",
       "      <td>29.2</td>\n",
       "      <td>74.3</td>\n",
       "    </tr>\n",
       "  </tbody>\n",
       "</table>\n",
       "</div>"
      ],
      "text/plain": [
       "   Gender  Age  Weight  Height  Leg_Length  Arm_Length  Arm_circum  Waist\n",
       "0       0  241    64.7     163        34.2        36.2        29.0   89.6\n",
       "1       0  241    54.0     153        37.2        34.0        26.1   85.5\n",
       "2       1  241    61.4     165        37.7        35.0        31.4   70.1\n",
       "3       0  241    74.0     171        37.9        36.2        29.8   91.1\n",
       "4       0  241    63.6     159        38.1        34.0        29.2   74.3"
      ]
     },
     "execution_count": 9,
     "metadata": {},
     "output_type": "execute_result"
    }
   ],
   "source": [
    "PythonML = pd.read_excel('weight.xlsx')\n",
    "PythonML.head()"
   ]
  },
  {
   "cell_type": "code",
   "execution_count": 10,
   "metadata": {},
   "outputs": [
    {
     "data": {
      "text/html": [
       "<div>\n",
       "<style scoped>\n",
       "    .dataframe tbody tr th:only-of-type {\n",
       "        vertical-align: middle;\n",
       "    }\n",
       "\n",
       "    .dataframe tbody tr th {\n",
       "        vertical-align: top;\n",
       "    }\n",
       "\n",
       "    .dataframe thead th {\n",
       "        text-align: right;\n",
       "    }\n",
       "</style>\n",
       "<table border=\"1\" class=\"dataframe\">\n",
       "  <thead>\n",
       "    <tr style=\"text-align: right;\">\n",
       "      <th></th>\n",
       "      <th>Gender</th>\n",
       "      <th>Weight</th>\n",
       "      <th>Height</th>\n",
       "    </tr>\n",
       "  </thead>\n",
       "  <tbody>\n",
       "    <tr>\n",
       "      <th>3547</th>\n",
       "      <td>1</td>\n",
       "      <td>73.6</td>\n",
       "      <td>159</td>\n",
       "    </tr>\n",
       "    <tr>\n",
       "      <th>248</th>\n",
       "      <td>0</td>\n",
       "      <td>55.1</td>\n",
       "      <td>168</td>\n",
       "    </tr>\n",
       "    <tr>\n",
       "      <th>1653</th>\n",
       "      <td>0</td>\n",
       "      <td>56.3</td>\n",
       "      <td>166</td>\n",
       "    </tr>\n",
       "    <tr>\n",
       "      <th>2689</th>\n",
       "      <td>0</td>\n",
       "      <td>87.0</td>\n",
       "      <td>170</td>\n",
       "    </tr>\n",
       "    <tr>\n",
       "      <th>3128</th>\n",
       "      <td>1</td>\n",
       "      <td>86.7</td>\n",
       "      <td>179</td>\n",
       "    </tr>\n",
       "  </tbody>\n",
       "</table>\n",
       "</div>"
      ],
      "text/plain": [
       "      Gender  Weight  Height\n",
       "3547       1    73.6     159\n",
       "248        0    55.1     168\n",
       "1653       0    56.3     166\n",
       "2689       0    87.0     170\n",
       "3128       1    86.7     179"
      ]
     },
     "execution_count": 10,
     "metadata": {},
     "output_type": "execute_result"
    }
   ],
   "source": [
    "PythonML = PythonML[['Gender', 'Weight', 'Height']]\n",
    "PythonML = PythonML.sample(n=1000, replace=False, random_state=1)\n",
    "PythonML.head()"
   ]
  },
  {
   "cell_type": "code",
   "execution_count": 11,
   "metadata": {},
   "outputs": [],
   "source": [
    "X = PythonML.drop('Gender', axis=1)\n",
    "y = PythonML['Gender']"
   ]
  },
  {
   "cell_type": "code",
   "execution_count": 12,
   "metadata": {},
   "outputs": [],
   "source": [
    "X_train, X_test, y_train, y_test = train_test_split(X, y, test_size=0.2, random_state=1)"
   ]
  },
  {
   "cell_type": "code",
   "execution_count": 13,
   "metadata": {},
   "outputs": [
    {
     "data": {
      "text/plain": [
       "LogisticRegression()"
      ]
     },
     "execution_count": 13,
     "metadata": {},
     "output_type": "execute_result"
    }
   ],
   "source": [
    "from sklearn.linear_model import LogisticRegression\n",
    "regression = LogisticRegression()\n",
    "regression.fit(X_train, y_train)"
   ]
  },
  {
   "cell_type": "code",
   "execution_count": 14,
   "metadata": {},
   "outputs": [
    {
     "name": "stdout",
     "output_type": "stream",
     "text": [
      "intercept: [-39.39794043]\n",
      "slope: [[0.00652357 0.23195881]]\n"
     ]
    }
   ],
   "source": [
    "print('intercept:', regression.intercept_)\n",
    "print('slope:', regression.coef_)"
   ]
  },
  {
   "cell_type": "code",
   "execution_count": 15,
   "metadata": {},
   "outputs": [],
   "source": [
    "y_pred = regression.predict(X_test)"
   ]
  },
  {
   "cell_type": "code",
   "execution_count": 16,
   "metadata": {},
   "outputs": [
    {
     "name": "stdout",
     "output_type": "stream",
     "text": [
      "[[79 14]\n",
      " [15 92]]\n",
      "Accuracy: 0.855\n",
      "              precision    recall  f1-score   support\n",
      "\n",
      "           0       0.84      0.85      0.84        93\n",
      "           1       0.87      0.86      0.86       107\n",
      "\n",
      "    accuracy                           0.85       200\n",
      "   macro avg       0.85      0.85      0.85       200\n",
      "weighted avg       0.86      0.85      0.86       200\n",
      "\n"
     ]
    }
   ],
   "source": [
    "print(confusion_matrix(y_test, y_pred))\n",
    "print('Accuracy: '+str(accuracy_score(y_test, y_pred)))\n",
    "print(classification_report(y_test, y_pred))"
   ]
  },
  {
   "cell_type": "markdown",
   "metadata": {},
   "source": [
    "Zadanie 3. \n",
    "\n",
    "Prześlij dane kolumn Gender, Weight, Height do Pythona. Wylosuj z danych około 1000 osób. Podziel ten zbiór na dane treningowe i testowe. Z biblioteki sklearn.neighbors zaimportuj KNeighborsClassifier. Naucz model na danych treningowych  dla k=1, 2,3 i 5 sąsiadów. Sprawdź przewidywania dla danych testowych dla poszczególnych k. Wypisz wyniki ewaluacji modelu tak jak w poprzednich zadaniach."
   ]
  },
  {
   "cell_type": "code",
   "execution_count": 17,
   "metadata": {},
   "outputs": [
    {
     "data": {
      "text/html": [
       "<div>\n",
       "<style scoped>\n",
       "    .dataframe tbody tr th:only-of-type {\n",
       "        vertical-align: middle;\n",
       "    }\n",
       "\n",
       "    .dataframe tbody tr th {\n",
       "        vertical-align: top;\n",
       "    }\n",
       "\n",
       "    .dataframe thead th {\n",
       "        text-align: right;\n",
       "    }\n",
       "</style>\n",
       "<table border=\"1\" class=\"dataframe\">\n",
       "  <thead>\n",
       "    <tr style=\"text-align: right;\">\n",
       "      <th></th>\n",
       "      <th>Gender</th>\n",
       "      <th>Age</th>\n",
       "      <th>Weight</th>\n",
       "      <th>Height</th>\n",
       "      <th>Leg_Length</th>\n",
       "      <th>Arm_Length</th>\n",
       "      <th>Arm_circum</th>\n",
       "      <th>Waist</th>\n",
       "    </tr>\n",
       "  </thead>\n",
       "  <tbody>\n",
       "    <tr>\n",
       "      <th>0</th>\n",
       "      <td>0</td>\n",
       "      <td>241</td>\n",
       "      <td>64.7</td>\n",
       "      <td>163</td>\n",
       "      <td>34.2</td>\n",
       "      <td>36.2</td>\n",
       "      <td>29.0</td>\n",
       "      <td>89.6</td>\n",
       "    </tr>\n",
       "    <tr>\n",
       "      <th>1</th>\n",
       "      <td>0</td>\n",
       "      <td>241</td>\n",
       "      <td>54.0</td>\n",
       "      <td>153</td>\n",
       "      <td>37.2</td>\n",
       "      <td>34.0</td>\n",
       "      <td>26.1</td>\n",
       "      <td>85.5</td>\n",
       "    </tr>\n",
       "    <tr>\n",
       "      <th>2</th>\n",
       "      <td>1</td>\n",
       "      <td>241</td>\n",
       "      <td>61.4</td>\n",
       "      <td>165</td>\n",
       "      <td>37.7</td>\n",
       "      <td>35.0</td>\n",
       "      <td>31.4</td>\n",
       "      <td>70.1</td>\n",
       "    </tr>\n",
       "    <tr>\n",
       "      <th>3</th>\n",
       "      <td>0</td>\n",
       "      <td>241</td>\n",
       "      <td>74.0</td>\n",
       "      <td>171</td>\n",
       "      <td>37.9</td>\n",
       "      <td>36.2</td>\n",
       "      <td>29.8</td>\n",
       "      <td>91.1</td>\n",
       "    </tr>\n",
       "    <tr>\n",
       "      <th>4</th>\n",
       "      <td>0</td>\n",
       "      <td>241</td>\n",
       "      <td>63.6</td>\n",
       "      <td>159</td>\n",
       "      <td>38.1</td>\n",
       "      <td>34.0</td>\n",
       "      <td>29.2</td>\n",
       "      <td>74.3</td>\n",
       "    </tr>\n",
       "  </tbody>\n",
       "</table>\n",
       "</div>"
      ],
      "text/plain": [
       "   Gender  Age  Weight  Height  Leg_Length  Arm_Length  Arm_circum  Waist\n",
       "0       0  241    64.7     163        34.2        36.2        29.0   89.6\n",
       "1       0  241    54.0     153        37.2        34.0        26.1   85.5\n",
       "2       1  241    61.4     165        37.7        35.0        31.4   70.1\n",
       "3       0  241    74.0     171        37.9        36.2        29.8   91.1\n",
       "4       0  241    63.6     159        38.1        34.0        29.2   74.3"
      ]
     },
     "execution_count": 17,
     "metadata": {},
     "output_type": "execute_result"
    }
   ],
   "source": [
    "PythonML = pd.read_excel('weight.xlsx')\n",
    "PythonML.head()"
   ]
  },
  {
   "cell_type": "code",
   "execution_count": 18,
   "metadata": {},
   "outputs": [
    {
     "data": {
      "text/html": [
       "<div>\n",
       "<style scoped>\n",
       "    .dataframe tbody tr th:only-of-type {\n",
       "        vertical-align: middle;\n",
       "    }\n",
       "\n",
       "    .dataframe tbody tr th {\n",
       "        vertical-align: top;\n",
       "    }\n",
       "\n",
       "    .dataframe thead th {\n",
       "        text-align: right;\n",
       "    }\n",
       "</style>\n",
       "<table border=\"1\" class=\"dataframe\">\n",
       "  <thead>\n",
       "    <tr style=\"text-align: right;\">\n",
       "      <th></th>\n",
       "      <th>Gender</th>\n",
       "      <th>Weight</th>\n",
       "      <th>Height</th>\n",
       "    </tr>\n",
       "  </thead>\n",
       "  <tbody>\n",
       "    <tr>\n",
       "      <th>3547</th>\n",
       "      <td>1</td>\n",
       "      <td>73.6</td>\n",
       "      <td>159</td>\n",
       "    </tr>\n",
       "    <tr>\n",
       "      <th>248</th>\n",
       "      <td>0</td>\n",
       "      <td>55.1</td>\n",
       "      <td>168</td>\n",
       "    </tr>\n",
       "    <tr>\n",
       "      <th>1653</th>\n",
       "      <td>0</td>\n",
       "      <td>56.3</td>\n",
       "      <td>166</td>\n",
       "    </tr>\n",
       "    <tr>\n",
       "      <th>2689</th>\n",
       "      <td>0</td>\n",
       "      <td>87.0</td>\n",
       "      <td>170</td>\n",
       "    </tr>\n",
       "    <tr>\n",
       "      <th>3128</th>\n",
       "      <td>1</td>\n",
       "      <td>86.7</td>\n",
       "      <td>179</td>\n",
       "    </tr>\n",
       "  </tbody>\n",
       "</table>\n",
       "</div>"
      ],
      "text/plain": [
       "      Gender  Weight  Height\n",
       "3547       1    73.6     159\n",
       "248        0    55.1     168\n",
       "1653       0    56.3     166\n",
       "2689       0    87.0     170\n",
       "3128       1    86.7     179"
      ]
     },
     "execution_count": 18,
     "metadata": {},
     "output_type": "execute_result"
    }
   ],
   "source": [
    "PythonML = PythonML[['Gender', 'Weight', 'Height']]\n",
    "PythonML = PythonML.sample(n=1000, replace=False, random_state=1)\n",
    "PythonML.head()"
   ]
  },
  {
   "cell_type": "code",
   "execution_count": 19,
   "metadata": {},
   "outputs": [],
   "source": [
    "X = PythonML.drop('Gender', axis=1)\n",
    "y = PythonML['Gender']"
   ]
  },
  {
   "cell_type": "code",
   "execution_count": 20,
   "metadata": {},
   "outputs": [],
   "source": [
    "X_train, X_test, y_train, y_test = train_test_split(X, y, test_size=0.2, random_state=1)"
   ]
  },
  {
   "cell_type": "code",
   "execution_count": 21,
   "metadata": {},
   "outputs": [],
   "source": [
    "from sklearn.neighbors import KNeighborsClassifier\n",
    "def KNN_Classifier(X_train, y_train, X_test, y_test, k):\n",
    "    neigh = KNeighborsClassifier(n_neighbors=k)\n",
    "    neigh.fit(X_train, y_train)\n",
    "    y_pred = neigh.predict(X_test)\n",
    "    print('K = ', k)\n",
    "    print(confusion_matrix(y_test, y_pred))\n",
    "    print('Accuracy: '+str(accuracy_score(y_test, y_pred)))\n",
    "    print(classification_report(y_test, y_pred))"
   ]
  },
  {
   "cell_type": "code",
   "execution_count": 22,
   "metadata": {},
   "outputs": [
    {
     "name": "stdout",
     "output_type": "stream",
     "text": [
      "K =  1\n",
      "[[78 15]\n",
      " [24 83]]\n",
      "Accuracy: 0.805\n",
      "              precision    recall  f1-score   support\n",
      "\n",
      "           0       0.76      0.84      0.80        93\n",
      "           1       0.85      0.78      0.81       107\n",
      "\n",
      "    accuracy                           0.81       200\n",
      "   macro avg       0.81      0.81      0.80       200\n",
      "weighted avg       0.81      0.81      0.81       200\n",
      "\n"
     ]
    }
   ],
   "source": [
    "KNN_Classifier(X_train, y_train, X_test, y_test, 1)"
   ]
  },
  {
   "cell_type": "code",
   "execution_count": 23,
   "metadata": {},
   "outputs": [
    {
     "name": "stdout",
     "output_type": "stream",
     "text": [
      "K =  2\n",
      "[[84  9]\n",
      " [37 70]]\n",
      "Accuracy: 0.77\n",
      "              precision    recall  f1-score   support\n",
      "\n",
      "           0       0.69      0.90      0.79        93\n",
      "           1       0.89      0.65      0.75       107\n",
      "\n",
      "    accuracy                           0.77       200\n",
      "   macro avg       0.79      0.78      0.77       200\n",
      "weighted avg       0.80      0.77      0.77       200\n",
      "\n"
     ]
    }
   ],
   "source": [
    "KNN_Classifier(X_train, y_train, X_test, y_test, 2)"
   ]
  },
  {
   "cell_type": "code",
   "execution_count": 24,
   "metadata": {},
   "outputs": [
    {
     "name": "stdout",
     "output_type": "stream",
     "text": [
      "K =  3\n",
      "[[75 18]\n",
      " [22 85]]\n",
      "Accuracy: 0.8\n",
      "              precision    recall  f1-score   support\n",
      "\n",
      "           0       0.77      0.81      0.79        93\n",
      "           1       0.83      0.79      0.81       107\n",
      "\n",
      "    accuracy                           0.80       200\n",
      "   macro avg       0.80      0.80      0.80       200\n",
      "weighted avg       0.80      0.80      0.80       200\n",
      "\n"
     ]
    }
   ],
   "source": [
    "KNN_Classifier(X_train, y_train, X_test, y_test, 3)"
   ]
  },
  {
   "cell_type": "code",
   "execution_count": 25,
   "metadata": {},
   "outputs": [
    {
     "name": "stdout",
     "output_type": "stream",
     "text": [
      "K =  5\n",
      "[[77 16]\n",
      " [16 91]]\n",
      "Accuracy: 0.84\n",
      "              precision    recall  f1-score   support\n",
      "\n",
      "           0       0.83      0.83      0.83        93\n",
      "           1       0.85      0.85      0.85       107\n",
      "\n",
      "    accuracy                           0.84       200\n",
      "   macro avg       0.84      0.84      0.84       200\n",
      "weighted avg       0.84      0.84      0.84       200\n",
      "\n"
     ]
    }
   ],
   "source": [
    "KNN_Classifier(X_train, y_train, X_test, y_test, 5)"
   ]
  }
 ],
 "metadata": {
  "kernelspec": {
   "display_name": "Python 3",
   "language": "python",
   "name": "python3"
  },
  "language_info": {
   "codemirror_mode": {
    "name": "ipython",
    "version": 3
   },
   "file_extension": ".py",
   "mimetype": "text/x-python",
   "name": "python",
   "nbconvert_exporter": "python",
   "pygments_lexer": "ipython3",
   "version": "3.8.5"
  }
 },
 "nbformat": 4,
 "nbformat_minor": 4
}
