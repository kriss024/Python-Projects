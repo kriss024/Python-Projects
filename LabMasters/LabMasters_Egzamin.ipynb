{
 "cells": [
  {
   "cell_type": "code",
   "execution_count": 232,
   "metadata": {
    "colab": {
     "base_uri": "https://localhost:8080/",
     "height": 35
    },
    "colab_type": "code",
    "executionInfo": {
     "elapsed": 866,
     "status": "ok",
     "timestamp": 1569190867050,
     "user": {
      "displayName": "Krzysztof Bruszewski",
      "photoUrl": "https://lh3.googleusercontent.com/a-/AAuE7mD8XjPIbmFmobTGjPD9InAcNJs6OPEd3spUgIN9RQ=s64",
      "userId": "11139975063881261812"
     },
     "user_tz": -120
    },
    "id": "VuJ0cbTSCkaV",
    "outputId": "ab18dcba-214f-47f3-acb9-e89ec3cc11e7"
   },
   "outputs": [
    {
     "name": "stdout",
     "output_type": "stream",
     "text": [
      "Drive already mounted at /content/gdrive; to attempt to forcibly remount, call drive.mount(\"/content/gdrive\", force_remount=True).\n"
     ]
    }
   ],
   "source": [
    "from google.colab import drive\n",
    "drive.mount('/content/gdrive')"
   ]
  },
  {
   "cell_type": "code",
   "execution_count": 0,
   "metadata": {
    "colab": {},
    "colab_type": "code",
    "id": "QRRLeJMOG715"
   },
   "outputs": [],
   "source": [
    "import pandas as pd  \n",
    "import numpy as np  \n",
    "import matplotlib.pyplot as plt  \n",
    "import seaborn as sns\n",
    "from IPython.display import display\n",
    "%matplotlib inline"
   ]
  },
  {
   "cell_type": "code",
   "execution_count": 0,
   "metadata": {
    "colab": {},
    "colab_type": "code",
    "id": "R4T5nWrVHBGp"
   },
   "outputs": [],
   "source": [
    "plik = 'gdrive/My Drive/Colab Notebooks/mobile-price-classification_train.csv'\n",
    "dane = pd.read_csv(plik)"
   ]
  },
  {
   "cell_type": "code",
   "execution_count": 0,
   "metadata": {
    "colab": {
     "base_uri": "https://localhost:8080/",
     "height": 204
    },
    "colab_type": "code",
    "executionInfo": {
     "elapsed": 2822,
     "status": "ok",
     "timestamp": 1569190652168,
     "user": {
      "displayName": "Krzysztof Bruszewski",
      "photoUrl": "https://lh3.googleusercontent.com/a-/AAuE7mD8XjPIbmFmobTGjPD9InAcNJs6OPEd3spUgIN9RQ=s64",
      "userId": "11139975063881261812"
     },
     "user_tz": -120
    },
    "id": "Dpz0xAYoHnPQ",
    "outputId": "ea11da75-3f29-420a-8b65-c7e510c8cc39"
   },
   "outputs": [
    {
     "data": {
      "text/html": [
       "<div>\n",
       "<style scoped>\n",
       "    .dataframe tbody tr th:only-of-type {\n",
       "        vertical-align: middle;\n",
       "    }\n",
       "\n",
       "    .dataframe tbody tr th {\n",
       "        vertical-align: top;\n",
       "    }\n",
       "\n",
       "    .dataframe thead th {\n",
       "        text-align: right;\n",
       "    }\n",
       "</style>\n",
       "<table border=\"1\" class=\"dataframe\">\n",
       "  <thead>\n",
       "    <tr style=\"text-align: right;\">\n",
       "      <th></th>\n",
       "      <th>battery_power</th>\n",
       "      <th>blue</th>\n",
       "      <th>clock_speed</th>\n",
       "      <th>dual_sim</th>\n",
       "      <th>fc</th>\n",
       "      <th>four_g</th>\n",
       "      <th>int_memory</th>\n",
       "      <th>m_dep</th>\n",
       "      <th>mobile_wt</th>\n",
       "      <th>n_cores</th>\n",
       "      <th>pc</th>\n",
       "      <th>px_height</th>\n",
       "      <th>px_width</th>\n",
       "      <th>ram</th>\n",
       "      <th>sc_h</th>\n",
       "      <th>sc_w</th>\n",
       "      <th>talk_time</th>\n",
       "      <th>three_g</th>\n",
       "      <th>touch_screen</th>\n",
       "      <th>wifi</th>\n",
       "      <th>price_range</th>\n",
       "    </tr>\n",
       "  </thead>\n",
       "  <tbody>\n",
       "    <tr>\n",
       "      <th>0</th>\n",
       "      <td>842</td>\n",
       "      <td>0</td>\n",
       "      <td>2.2</td>\n",
       "      <td>0</td>\n",
       "      <td>1</td>\n",
       "      <td>0</td>\n",
       "      <td>7</td>\n",
       "      <td>0.6</td>\n",
       "      <td>188</td>\n",
       "      <td>2</td>\n",
       "      <td>2</td>\n",
       "      <td>20</td>\n",
       "      <td>756</td>\n",
       "      <td>2549</td>\n",
       "      <td>9</td>\n",
       "      <td>7</td>\n",
       "      <td>19</td>\n",
       "      <td>0</td>\n",
       "      <td>0</td>\n",
       "      <td>1</td>\n",
       "      <td>1</td>\n",
       "    </tr>\n",
       "    <tr>\n",
       "      <th>1</th>\n",
       "      <td>1021</td>\n",
       "      <td>1</td>\n",
       "      <td>0.5</td>\n",
       "      <td>1</td>\n",
       "      <td>0</td>\n",
       "      <td>1</td>\n",
       "      <td>53</td>\n",
       "      <td>0.7</td>\n",
       "      <td>136</td>\n",
       "      <td>3</td>\n",
       "      <td>6</td>\n",
       "      <td>905</td>\n",
       "      <td>1988</td>\n",
       "      <td>2631</td>\n",
       "      <td>17</td>\n",
       "      <td>3</td>\n",
       "      <td>7</td>\n",
       "      <td>1</td>\n",
       "      <td>1</td>\n",
       "      <td>0</td>\n",
       "      <td>2</td>\n",
       "    </tr>\n",
       "    <tr>\n",
       "      <th>2</th>\n",
       "      <td>563</td>\n",
       "      <td>1</td>\n",
       "      <td>0.5</td>\n",
       "      <td>1</td>\n",
       "      <td>2</td>\n",
       "      <td>1</td>\n",
       "      <td>41</td>\n",
       "      <td>0.9</td>\n",
       "      <td>145</td>\n",
       "      <td>5</td>\n",
       "      <td>6</td>\n",
       "      <td>1263</td>\n",
       "      <td>1716</td>\n",
       "      <td>2603</td>\n",
       "      <td>11</td>\n",
       "      <td>2</td>\n",
       "      <td>9</td>\n",
       "      <td>1</td>\n",
       "      <td>1</td>\n",
       "      <td>0</td>\n",
       "      <td>2</td>\n",
       "    </tr>\n",
       "    <tr>\n",
       "      <th>3</th>\n",
       "      <td>615</td>\n",
       "      <td>1</td>\n",
       "      <td>2.5</td>\n",
       "      <td>0</td>\n",
       "      <td>0</td>\n",
       "      <td>0</td>\n",
       "      <td>10</td>\n",
       "      <td>0.8</td>\n",
       "      <td>131</td>\n",
       "      <td>6</td>\n",
       "      <td>9</td>\n",
       "      <td>1216</td>\n",
       "      <td>1786</td>\n",
       "      <td>2769</td>\n",
       "      <td>16</td>\n",
       "      <td>8</td>\n",
       "      <td>11</td>\n",
       "      <td>1</td>\n",
       "      <td>0</td>\n",
       "      <td>0</td>\n",
       "      <td>2</td>\n",
       "    </tr>\n",
       "    <tr>\n",
       "      <th>4</th>\n",
       "      <td>1821</td>\n",
       "      <td>1</td>\n",
       "      <td>1.2</td>\n",
       "      <td>0</td>\n",
       "      <td>13</td>\n",
       "      <td>1</td>\n",
       "      <td>44</td>\n",
       "      <td>0.6</td>\n",
       "      <td>141</td>\n",
       "      <td>2</td>\n",
       "      <td>14</td>\n",
       "      <td>1208</td>\n",
       "      <td>1212</td>\n",
       "      <td>1411</td>\n",
       "      <td>8</td>\n",
       "      <td>2</td>\n",
       "      <td>15</td>\n",
       "      <td>1</td>\n",
       "      <td>1</td>\n",
       "      <td>0</td>\n",
       "      <td>1</td>\n",
       "    </tr>\n",
       "  </tbody>\n",
       "</table>\n",
       "</div>"
      ],
      "text/plain": [
       "   battery_power  blue  clock_speed  ...  touch_screen  wifi  price_range\n",
       "0            842     0          2.2  ...             0     1            1\n",
       "1           1021     1          0.5  ...             1     0            2\n",
       "2            563     1          0.5  ...             1     0            2\n",
       "3            615     1          2.5  ...             0     0            2\n",
       "4           1821     1          1.2  ...             1     0            1\n",
       "\n",
       "[5 rows x 21 columns]"
      ]
     },
     "execution_count": 219,
     "metadata": {
      "tags": []
     },
     "output_type": "execute_result"
    }
   ],
   "source": [
    "dane.head()"
   ]
  },
  {
   "cell_type": "code",
   "execution_count": 0,
   "metadata": {
    "colab": {
     "base_uri": "https://localhost:8080/",
     "height": 173
    },
    "colab_type": "code",
    "executionInfo": {
     "elapsed": 2800,
     "status": "ok",
     "timestamp": 1569190652169,
     "user": {
      "displayName": "Krzysztof Bruszewski",
      "photoUrl": "https://lh3.googleusercontent.com/a-/AAuE7mD8XjPIbmFmobTGjPD9InAcNJs6OPEd3spUgIN9RQ=s64",
      "userId": "11139975063881261812"
     },
     "user_tz": -120
    },
    "id": "2Z4BMvxeHy8g",
    "outputId": "a24c52dc-2bd9-414e-eb89-e10247e87b6a"
   },
   "outputs": [
    {
     "data": {
      "text/html": [
       "<div>\n",
       "<style scoped>\n",
       "    .dataframe tbody tr th:only-of-type {\n",
       "        vertical-align: middle;\n",
       "    }\n",
       "\n",
       "    .dataframe tbody tr th {\n",
       "        vertical-align: top;\n",
       "    }\n",
       "\n",
       "    .dataframe thead th {\n",
       "        text-align: right;\n",
       "    }\n",
       "</style>\n",
       "<table border=\"1\" class=\"dataframe\">\n",
       "  <thead>\n",
       "    <tr style=\"text-align: right;\">\n",
       "      <th></th>\n",
       "      <th>price_range</th>\n",
       "    </tr>\n",
       "  </thead>\n",
       "  <tbody>\n",
       "    <tr>\n",
       "      <th>3</th>\n",
       "      <td>500</td>\n",
       "    </tr>\n",
       "    <tr>\n",
       "      <th>2</th>\n",
       "      <td>500</td>\n",
       "    </tr>\n",
       "    <tr>\n",
       "      <th>1</th>\n",
       "      <td>500</td>\n",
       "    </tr>\n",
       "    <tr>\n",
       "      <th>0</th>\n",
       "      <td>500</td>\n",
       "    </tr>\n",
       "  </tbody>\n",
       "</table>\n",
       "</div>"
      ],
      "text/plain": [
       "   price_range\n",
       "3          500\n",
       "2          500\n",
       "1          500\n",
       "0          500"
      ]
     },
     "metadata": {
      "tags": []
     },
     "output_type": "display_data"
    }
   ],
   "source": [
    "zmienna_celu = dane.price_range\n",
    "target = zmienna_celu.name\n",
    "f = pd.DataFrame(zmienna_celu.value_counts())\n",
    "display(f)"
   ]
  },
  {
   "cell_type": "code",
   "execution_count": 0,
   "metadata": {
    "colab": {
     "base_uri": "https://localhost:8080/",
     "height": 700
    },
    "colab_type": "code",
    "executionInfo": {
     "elapsed": 2770,
     "status": "ok",
     "timestamp": 1569190652171,
     "user": {
      "displayName": "Krzysztof Bruszewski",
      "photoUrl": "https://lh3.googleusercontent.com/a-/AAuE7mD8XjPIbmFmobTGjPD9InAcNJs6OPEd3spUgIN9RQ=s64",
      "userId": "11139975063881261812"
     },
     "user_tz": -120
    },
    "id": "j46YuuWwODGl",
    "outputId": "06307a32-368b-4f40-815d-ce8fb3ea63a3"
   },
   "outputs": [
    {
     "data": {
      "text/html": [
       "<div>\n",
       "<style scoped>\n",
       "    .dataframe tbody tr th:only-of-type {\n",
       "        vertical-align: middle;\n",
       "    }\n",
       "\n",
       "    .dataframe tbody tr th {\n",
       "        vertical-align: top;\n",
       "    }\n",
       "\n",
       "    .dataframe thead th {\n",
       "        text-align: right;\n",
       "    }\n",
       "</style>\n",
       "<table border=\"1\" class=\"dataframe\">\n",
       "  <thead>\n",
       "    <tr style=\"text-align: right;\">\n",
       "      <th></th>\n",
       "      <th>Nazwa</th>\n",
       "      <th>Typ</th>\n",
       "      <th>Unikalne</th>\n",
       "      <th>Poziom</th>\n",
       "    </tr>\n",
       "  </thead>\n",
       "  <tbody>\n",
       "    <tr>\n",
       "      <th>0</th>\n",
       "      <td>battery_power</td>\n",
       "      <td>int64</td>\n",
       "      <td>1094</td>\n",
       "      <td>num</td>\n",
       "    </tr>\n",
       "    <tr>\n",
       "      <th>1</th>\n",
       "      <td>blue</td>\n",
       "      <td>int64</td>\n",
       "      <td>2</td>\n",
       "      <td>dyskret</td>\n",
       "    </tr>\n",
       "    <tr>\n",
       "      <th>2</th>\n",
       "      <td>clock_speed</td>\n",
       "      <td>float64</td>\n",
       "      <td>26</td>\n",
       "      <td>num</td>\n",
       "    </tr>\n",
       "    <tr>\n",
       "      <th>3</th>\n",
       "      <td>dual_sim</td>\n",
       "      <td>int64</td>\n",
       "      <td>2</td>\n",
       "      <td>dyskret</td>\n",
       "    </tr>\n",
       "    <tr>\n",
       "      <th>4</th>\n",
       "      <td>fc</td>\n",
       "      <td>int64</td>\n",
       "      <td>20</td>\n",
       "      <td>num</td>\n",
       "    </tr>\n",
       "    <tr>\n",
       "      <th>5</th>\n",
       "      <td>four_g</td>\n",
       "      <td>int64</td>\n",
       "      <td>2</td>\n",
       "      <td>dyskret</td>\n",
       "    </tr>\n",
       "    <tr>\n",
       "      <th>6</th>\n",
       "      <td>int_memory</td>\n",
       "      <td>int64</td>\n",
       "      <td>63</td>\n",
       "      <td>num</td>\n",
       "    </tr>\n",
       "    <tr>\n",
       "      <th>7</th>\n",
       "      <td>m_dep</td>\n",
       "      <td>float64</td>\n",
       "      <td>10</td>\n",
       "      <td>num</td>\n",
       "    </tr>\n",
       "    <tr>\n",
       "      <th>8</th>\n",
       "      <td>mobile_wt</td>\n",
       "      <td>int64</td>\n",
       "      <td>121</td>\n",
       "      <td>num</td>\n",
       "    </tr>\n",
       "    <tr>\n",
       "      <th>9</th>\n",
       "      <td>n_cores</td>\n",
       "      <td>int64</td>\n",
       "      <td>8</td>\n",
       "      <td>num</td>\n",
       "    </tr>\n",
       "    <tr>\n",
       "      <th>10</th>\n",
       "      <td>pc</td>\n",
       "      <td>int64</td>\n",
       "      <td>21</td>\n",
       "      <td>num</td>\n",
       "    </tr>\n",
       "    <tr>\n",
       "      <th>11</th>\n",
       "      <td>px_height</td>\n",
       "      <td>int64</td>\n",
       "      <td>1137</td>\n",
       "      <td>num</td>\n",
       "    </tr>\n",
       "    <tr>\n",
       "      <th>12</th>\n",
       "      <td>px_width</td>\n",
       "      <td>int64</td>\n",
       "      <td>1109</td>\n",
       "      <td>num</td>\n",
       "    </tr>\n",
       "    <tr>\n",
       "      <th>13</th>\n",
       "      <td>ram</td>\n",
       "      <td>int64</td>\n",
       "      <td>1562</td>\n",
       "      <td>num</td>\n",
       "    </tr>\n",
       "    <tr>\n",
       "      <th>14</th>\n",
       "      <td>sc_h</td>\n",
       "      <td>int64</td>\n",
       "      <td>15</td>\n",
       "      <td>num</td>\n",
       "    </tr>\n",
       "    <tr>\n",
       "      <th>15</th>\n",
       "      <td>sc_w</td>\n",
       "      <td>int64</td>\n",
       "      <td>19</td>\n",
       "      <td>num</td>\n",
       "    </tr>\n",
       "    <tr>\n",
       "      <th>16</th>\n",
       "      <td>talk_time</td>\n",
       "      <td>int64</td>\n",
       "      <td>19</td>\n",
       "      <td>num</td>\n",
       "    </tr>\n",
       "    <tr>\n",
       "      <th>17</th>\n",
       "      <td>three_g</td>\n",
       "      <td>int64</td>\n",
       "      <td>2</td>\n",
       "      <td>dyskret</td>\n",
       "    </tr>\n",
       "    <tr>\n",
       "      <th>18</th>\n",
       "      <td>touch_screen</td>\n",
       "      <td>int64</td>\n",
       "      <td>2</td>\n",
       "      <td>dyskret</td>\n",
       "    </tr>\n",
       "    <tr>\n",
       "      <th>19</th>\n",
       "      <td>wifi</td>\n",
       "      <td>int64</td>\n",
       "      <td>2</td>\n",
       "      <td>dyskret</td>\n",
       "    </tr>\n",
       "    <tr>\n",
       "      <th>20</th>\n",
       "      <td>price_range</td>\n",
       "      <td>int64</td>\n",
       "      <td>4</td>\n",
       "      <td>dyskret</td>\n",
       "    </tr>\n",
       "  </tbody>\n",
       "</table>\n",
       "</div>"
      ],
      "text/plain": [
       "            Nazwa      Typ  Unikalne   Poziom\n",
       "0   battery_power    int64      1094      num\n",
       "1            blue    int64         2  dyskret\n",
       "2     clock_speed  float64        26      num\n",
       "3        dual_sim    int64         2  dyskret\n",
       "4              fc    int64        20      num\n",
       "5          four_g    int64         2  dyskret\n",
       "6      int_memory    int64        63      num\n",
       "7           m_dep  float64        10      num\n",
       "8       mobile_wt    int64       121      num\n",
       "9         n_cores    int64         8      num\n",
       "10             pc    int64        21      num\n",
       "11      px_height    int64      1137      num\n",
       "12       px_width    int64      1109      num\n",
       "13            ram    int64      1562      num\n",
       "14           sc_h    int64        15      num\n",
       "15           sc_w    int64        19      num\n",
       "16      talk_time    int64        19      num\n",
       "17        three_g    int64         2  dyskret\n",
       "18   touch_screen    int64         2  dyskret\n",
       "19           wifi    int64         2  dyskret\n",
       "20    price_range    int64         4  dyskret"
      ]
     },
     "metadata": {
      "tags": []
     },
     "output_type": "display_data"
    }
   ],
   "source": [
    "def Poziomy(dataset):\n",
    "  n_unikalnych = 5\n",
    "  kolumny = dataset.columns\n",
    "  nazwa = pd.Series()\n",
    "  typ = pd.Series()\n",
    "  licznosc = pd.Series()\n",
    "  poziom = pd.Series()\n",
    "\n",
    "  for element in kolumny:\n",
    "    kols = pd.Series(element)\n",
    "    nazwa = nazwa.append(kols)\n",
    "    dt = dataset[element].dtype\n",
    "    dts = pd.Series(str(dt))\n",
    "    typ = typ.append(dts)\n",
    "    uni = dataset[element].nunique()\n",
    "    unis = pd.Series(int(uni))\n",
    "    licznosc = licznosc.append(unis)\n",
    "    if (dt==np.int64 or dt==np.float64) and int(uni)>n_unikalnych:\n",
    "      poz = 'num'\n",
    "    else:\n",
    "      poz = 'dyskret'\n",
    "    pozs = pd.Series(poz)\n",
    "    poziom = poziom.append(pozs)\n",
    "    \n",
    "  tabelka = pd.DataFrame({'Nazwa':nazwa, 'Typ':typ, 'Unikalne': licznosc, 'Poziom': poziom})\n",
    "  tabelka.reset_index(inplace=True, drop=True)\n",
    "  return tabelka\n",
    "\n",
    "f = Poziomy(dane)\n",
    "display(f)"
   ]
  },
  {
   "cell_type": "code",
   "execution_count": 0,
   "metadata": {
    "colab": {
     "base_uri": "https://localhost:8080/",
     "height": 669
    },
    "colab_type": "code",
    "executionInfo": {
     "elapsed": 2732,
     "status": "ok",
     "timestamp": 1569190652173,
     "user": {
      "displayName": "Krzysztof Bruszewski",
      "photoUrl": "https://lh3.googleusercontent.com/a-/AAuE7mD8XjPIbmFmobTGjPD9InAcNJs6OPEd3spUgIN9RQ=s64",
      "userId": "11139975063881261812"
     },
     "user_tz": -120
    },
    "id": "2AvsrSWNVy5R",
    "outputId": "70d857cf-dda1-4b19-9a33-170e73d4339c"
   },
   "outputs": [
    {
     "data": {
      "text/html": [
       "<div>\n",
       "<style scoped>\n",
       "    .dataframe tbody tr th:only-of-type {\n",
       "        vertical-align: middle;\n",
       "    }\n",
       "\n",
       "    .dataframe tbody tr th {\n",
       "        vertical-align: top;\n",
       "    }\n",
       "\n",
       "    .dataframe thead th {\n",
       "        text-align: right;\n",
       "    }\n",
       "</style>\n",
       "<table border=\"1\" class=\"dataframe\">\n",
       "  <thead>\n",
       "    <tr style=\"text-align: right;\">\n",
       "      <th></th>\n",
       "      <th>Nazwa</th>\n",
       "      <th>Typ</th>\n",
       "      <th>Unikalne</th>\n",
       "      <th>Poziom</th>\n",
       "    </tr>\n",
       "  </thead>\n",
       "  <tbody>\n",
       "    <tr>\n",
       "      <th>1</th>\n",
       "      <td>blue</td>\n",
       "      <td>int64</td>\n",
       "      <td>2</td>\n",
       "      <td>dyskret</td>\n",
       "    </tr>\n",
       "    <tr>\n",
       "      <th>3</th>\n",
       "      <td>dual_sim</td>\n",
       "      <td>int64</td>\n",
       "      <td>2</td>\n",
       "      <td>dyskret</td>\n",
       "    </tr>\n",
       "    <tr>\n",
       "      <th>5</th>\n",
       "      <td>four_g</td>\n",
       "      <td>int64</td>\n",
       "      <td>2</td>\n",
       "      <td>dyskret</td>\n",
       "    </tr>\n",
       "    <tr>\n",
       "      <th>17</th>\n",
       "      <td>three_g</td>\n",
       "      <td>int64</td>\n",
       "      <td>2</td>\n",
       "      <td>dyskret</td>\n",
       "    </tr>\n",
       "    <tr>\n",
       "      <th>18</th>\n",
       "      <td>touch_screen</td>\n",
       "      <td>int64</td>\n",
       "      <td>2</td>\n",
       "      <td>dyskret</td>\n",
       "    </tr>\n",
       "    <tr>\n",
       "      <th>19</th>\n",
       "      <td>wifi</td>\n",
       "      <td>int64</td>\n",
       "      <td>2</td>\n",
       "      <td>dyskret</td>\n",
       "    </tr>\n",
       "    <tr>\n",
       "      <th>0</th>\n",
       "      <td>battery_power</td>\n",
       "      <td>int64</td>\n",
       "      <td>1094</td>\n",
       "      <td>num</td>\n",
       "    </tr>\n",
       "    <tr>\n",
       "      <th>2</th>\n",
       "      <td>clock_speed</td>\n",
       "      <td>float64</td>\n",
       "      <td>26</td>\n",
       "      <td>num</td>\n",
       "    </tr>\n",
       "    <tr>\n",
       "      <th>4</th>\n",
       "      <td>fc</td>\n",
       "      <td>int64</td>\n",
       "      <td>20</td>\n",
       "      <td>num</td>\n",
       "    </tr>\n",
       "    <tr>\n",
       "      <th>6</th>\n",
       "      <td>int_memory</td>\n",
       "      <td>int64</td>\n",
       "      <td>63</td>\n",
       "      <td>num</td>\n",
       "    </tr>\n",
       "    <tr>\n",
       "      <th>7</th>\n",
       "      <td>m_dep</td>\n",
       "      <td>float64</td>\n",
       "      <td>10</td>\n",
       "      <td>num</td>\n",
       "    </tr>\n",
       "    <tr>\n",
       "      <th>8</th>\n",
       "      <td>mobile_wt</td>\n",
       "      <td>int64</td>\n",
       "      <td>121</td>\n",
       "      <td>num</td>\n",
       "    </tr>\n",
       "    <tr>\n",
       "      <th>9</th>\n",
       "      <td>n_cores</td>\n",
       "      <td>int64</td>\n",
       "      <td>8</td>\n",
       "      <td>num</td>\n",
       "    </tr>\n",
       "    <tr>\n",
       "      <th>10</th>\n",
       "      <td>pc</td>\n",
       "      <td>int64</td>\n",
       "      <td>21</td>\n",
       "      <td>num</td>\n",
       "    </tr>\n",
       "    <tr>\n",
       "      <th>11</th>\n",
       "      <td>px_height</td>\n",
       "      <td>int64</td>\n",
       "      <td>1137</td>\n",
       "      <td>num</td>\n",
       "    </tr>\n",
       "    <tr>\n",
       "      <th>12</th>\n",
       "      <td>px_width</td>\n",
       "      <td>int64</td>\n",
       "      <td>1109</td>\n",
       "      <td>num</td>\n",
       "    </tr>\n",
       "    <tr>\n",
       "      <th>13</th>\n",
       "      <td>ram</td>\n",
       "      <td>int64</td>\n",
       "      <td>1562</td>\n",
       "      <td>num</td>\n",
       "    </tr>\n",
       "    <tr>\n",
       "      <th>14</th>\n",
       "      <td>sc_h</td>\n",
       "      <td>int64</td>\n",
       "      <td>15</td>\n",
       "      <td>num</td>\n",
       "    </tr>\n",
       "    <tr>\n",
       "      <th>15</th>\n",
       "      <td>sc_w</td>\n",
       "      <td>int64</td>\n",
       "      <td>19</td>\n",
       "      <td>num</td>\n",
       "    </tr>\n",
       "    <tr>\n",
       "      <th>16</th>\n",
       "      <td>talk_time</td>\n",
       "      <td>int64</td>\n",
       "      <td>19</td>\n",
       "      <td>num</td>\n",
       "    </tr>\n",
       "  </tbody>\n",
       "</table>\n",
       "</div>"
      ],
      "text/plain": [
       "            Nazwa      Typ  Unikalne   Poziom\n",
       "1            blue    int64         2  dyskret\n",
       "3        dual_sim    int64         2  dyskret\n",
       "5          four_g    int64         2  dyskret\n",
       "17        three_g    int64         2  dyskret\n",
       "18   touch_screen    int64         2  dyskret\n",
       "19           wifi    int64         2  dyskret\n",
       "0   battery_power    int64      1094      num\n",
       "2     clock_speed  float64        26      num\n",
       "4              fc    int64        20      num\n",
       "6      int_memory    int64        63      num\n",
       "7           m_dep  float64        10      num\n",
       "8       mobile_wt    int64       121      num\n",
       "9         n_cores    int64         8      num\n",
       "10             pc    int64        21      num\n",
       "11      px_height    int64      1137      num\n",
       "12       px_width    int64      1109      num\n",
       "13            ram    int64      1562      num\n",
       "14           sc_h    int64        15      num\n",
       "15           sc_w    int64        19      num\n",
       "16      talk_time    int64        19      num"
      ]
     },
     "metadata": {
      "tags": []
     },
     "output_type": "display_data"
    }
   ],
   "source": [
    "poziomy = Poziomy(dane)\n",
    "kategorie = poziomy.query(\"Nazwa not in ('\"+target+\"') and Poziom == 'dyskret'\")\n",
    "numeryczne = poziomy.query(\"Nazwa not in ('\"+target+\"') and Poziom == 'num'\")\n",
    "f = pd.concat([kategorie, numeryczne])\n",
    "display(f)"
   ]
  },
  {
   "cell_type": "code",
   "execution_count": 0,
   "metadata": {
    "colab": {
     "base_uri": "https://localhost:8080/",
     "height": 1000
    },
    "colab_type": "code",
    "executionInfo": {
     "elapsed": 7743,
     "status": "ok",
     "timestamp": 1569190657223,
     "user": {
      "displayName": "Krzysztof Bruszewski",
      "photoUrl": "https://lh3.googleusercontent.com/a-/AAuE7mD8XjPIbmFmobTGjPD9InAcNJs6OPEd3spUgIN9RQ=s64",
      "userId": "11139975063881261812"
     },
     "user_tz": -120
    },
    "id": "UDJ-AH2cYdiU",
    "outputId": "028515b0-903e-4ae2-b20f-f18a30bdb5d7"
   },
   "outputs": [
    {
     "data": {
      "image/png": "[encoded data removed]",
      "text/plain": [
       "<Figure size 432x288 with 1 Axes>"
      ]
     },
     "metadata": {
      "tags": []
     },
     "output_type": "display_data"
    },
    {
     "data": {
      "image/png": "[encoded data removed]",
      "text/plain": [
       "<Figure size 432x288 with 1 Axes>"
      ]
     },
     "metadata": {
      "tags": []
     },
     "output_type": "display_data"
    },
    {
     "data": {
      "image/png": "[encoded data removed]",
      "text/plain": [
       "<Figure size 432x288 with 1 Axes>"
      ]
     },
     "metadata": {
      "tags": []
     },
     "output_type": "display_data"
    },
    {
     "data": {
      "image/png": "[encoded data removed]",
      "text/plain": [
       "<Figure size 432x288 with 1 Axes>"
      ]
     },
     "metadata": {
      "tags": []
     },
     "output_type": "display_data"
    },
    {
     "data": {
      "image/png": "[encoded data removed]",
      "text/plain": [
       "<Figure size 432x288 with 1 Axes>"
      ]
     },
     "metadata": {
      "tags": []
     },
     "output_type": "display_data"
    },
    {
     "data": {
      "image/png": "[encoded data removed]",
      "text/plain": [
       "<Figure size 432x288 with 1 Axes>"
      ]
     },
     "metadata": {
      "tags": []
     },
     "output_type": "display_data"
    },
    {
     "data": {
      "image/png": "[encoded data removed]",
      "text/plain": [
       "<Figure size 432x288 with 1 Axes>"
      ]
     },
     "metadata": {
      "tags": []
     },
     "output_type": "display_data"
    },
    {
     "data": {
      "image/png": "[encoded data removed]",
      "text/plain": [
       "<Figure size 432x288 with 1 Axes>"
      ]
     },
     "metadata": {
      "tags": []
     },
     "output_type": "display_data"
    },
    {
     "data": {
      "image/png": "[encoded data removed]",
      "text/plain": [
       "<Figure size 432x288 with 1 Axes>"
      ]
     },
     "metadata": {
      "tags": []
     },
     "output_type": "display_data"
    },
    {
     "data": {
      "image/png": "[encoded data removed]",
      "text/plain": [
       "<Figure size 432x288 with 1 Axes>"
      ]
     },
     "metadata": {
      "tags": []
     },
     "output_type": "display_data"
    },
    {
     "data": {
      "image/png": "[encoded data removed]",
      "text/plain": [
       "<Figure size 432x288 with 1 Axes>"
      ]
     },
     "metadata": {
      "tags": []
     },
     "output_type": "display_data"
    },
    {
     "data": {
      "image/png": "[encoded data removed]",
      "text/plain": [
       "<Figure size 432x288 with 1 Axes>"
      ]
     },
     "metadata": {
      "tags": []
     },
     "output_type": "display_data"
    },
    {
     "data": {
      "image/png": "[encoded data removed]",
      "text/plain": [
       "<Figure size 432x288 with 1 Axes>"
      ]
     },
     "metadata": {
      "tags": []
     },
     "output_type": "display_data"
    },
    {
     "data": {
      "image/png": "[encoded data removed]",
      "text/plain": [
       "<Figure size 432x288 with 1 Axes>"
      ]
     },
     "metadata": {
      "tags": []
     },
     "output_type": "display_data"
    }
   ],
   "source": [
    "nazwy = numeryczne.Nazwa.values.tolist()\n",
    "\n",
    "for c in nazwy:\n",
    "  x0 = dane.loc[dane[target]==0, c]\n",
    "  x1 = dane.loc[dane[target]==1, c]\n",
    "  x2 = dane.loc[dane[target]==2, c]\n",
    "  x3 = dane.loc[dane[target]==3, c]\n",
    "\n",
    "  plt.hist(x0, alpha=0.50, color='y', label='niska cena')\n",
    "  plt.hist(x1, alpha=0.45, color='g', label='średnia cena')\n",
    "  plt.hist(x2, alpha=0.40, color='b', label='wysoka cena')\n",
    "  plt.hist(x3, alpha=0.35, color='r', label='b. wysoka cena')\n",
    "  plt.gca().set(title='Rozkład zmiennej '+c, ylabel='Liczba telefonów', xlabel=c)\n",
    "  plt.legend()\n",
    "  plt.show();"
   ]
  },
  {
   "cell_type": "code",
   "execution_count": 0,
   "metadata": {
    "colab": {
     "base_uri": "https://localhost:8080/",
     "height": 204
    },
    "colab_type": "code",
    "executionInfo": {
     "elapsed": 8334,
     "status": "ok",
     "timestamp": 1569190657872,
     "user": {
      "displayName": "Krzysztof Bruszewski",
      "photoUrl": "https://lh3.googleusercontent.com/a-/AAuE7mD8XjPIbmFmobTGjPD9InAcNJs6OPEd3spUgIN9RQ=s64",
      "userId": "11139975063881261812"
     },
     "user_tz": -120
    },
    "id": "O5XGb8YQbw-a",
    "outputId": "2c2b6bfc-c850-4deb-c32e-da77693255f7"
   },
   "outputs": [
    {
     "data": {
      "text/html": [
       "<div>\n",
       "<style scoped>\n",
       "    .dataframe tbody tr th:only-of-type {\n",
       "        vertical-align: middle;\n",
       "    }\n",
       "\n",
       "    .dataframe tbody tr th {\n",
       "        vertical-align: top;\n",
       "    }\n",
       "\n",
       "    .dataframe thead th {\n",
       "        text-align: right;\n",
       "    }\n",
       "</style>\n",
       "<table border=\"1\" class=\"dataframe\">\n",
       "  <thead>\n",
       "    <tr style=\"text-align: right;\">\n",
       "      <th></th>\n",
       "      <th>battery_power</th>\n",
       "      <th>clock_speed</th>\n",
       "      <th>fc</th>\n",
       "      <th>int_memory</th>\n",
       "      <th>m_dep</th>\n",
       "      <th>mobile_wt</th>\n",
       "      <th>n_cores</th>\n",
       "      <th>pc</th>\n",
       "      <th>px_height</th>\n",
       "      <th>px_width</th>\n",
       "      <th>ram</th>\n",
       "      <th>sc_h</th>\n",
       "      <th>sc_w</th>\n",
       "      <th>talk_time</th>\n",
       "      <th>price_range</th>\n",
       "      <th>x_blue</th>\n",
       "      <th>x_dual_sim</th>\n",
       "      <th>x_four_g</th>\n",
       "      <th>x_three_g</th>\n",
       "      <th>x_touch_screen</th>\n",
       "      <th>x_wifi</th>\n",
       "    </tr>\n",
       "  </thead>\n",
       "  <tbody>\n",
       "    <tr>\n",
       "      <th>0</th>\n",
       "      <td>842</td>\n",
       "      <td>2.2</td>\n",
       "      <td>1</td>\n",
       "      <td>7</td>\n",
       "      <td>0.6</td>\n",
       "      <td>188</td>\n",
       "      <td>2</td>\n",
       "      <td>2</td>\n",
       "      <td>20</td>\n",
       "      <td>756</td>\n",
       "      <td>2549</td>\n",
       "      <td>9</td>\n",
       "      <td>7</td>\n",
       "      <td>19</td>\n",
       "      <td>średnia cena</td>\n",
       "      <td>nie</td>\n",
       "      <td>nie</td>\n",
       "      <td>nie</td>\n",
       "      <td>nie</td>\n",
       "      <td>nie</td>\n",
       "      <td>tak</td>\n",
       "    </tr>\n",
       "    <tr>\n",
       "      <th>1</th>\n",
       "      <td>1021</td>\n",
       "      <td>0.5</td>\n",
       "      <td>0</td>\n",
       "      <td>53</td>\n",
       "      <td>0.7</td>\n",
       "      <td>136</td>\n",
       "      <td>3</td>\n",
       "      <td>6</td>\n",
       "      <td>905</td>\n",
       "      <td>1988</td>\n",
       "      <td>2631</td>\n",
       "      <td>17</td>\n",
       "      <td>3</td>\n",
       "      <td>7</td>\n",
       "      <td>wysoka cena</td>\n",
       "      <td>tak</td>\n",
       "      <td>tak</td>\n",
       "      <td>tak</td>\n",
       "      <td>tak</td>\n",
       "      <td>tak</td>\n",
       "      <td>nie</td>\n",
       "    </tr>\n",
       "    <tr>\n",
       "      <th>2</th>\n",
       "      <td>563</td>\n",
       "      <td>0.5</td>\n",
       "      <td>2</td>\n",
       "      <td>41</td>\n",
       "      <td>0.9</td>\n",
       "      <td>145</td>\n",
       "      <td>5</td>\n",
       "      <td>6</td>\n",
       "      <td>1263</td>\n",
       "      <td>1716</td>\n",
       "      <td>2603</td>\n",
       "      <td>11</td>\n",
       "      <td>2</td>\n",
       "      <td>9</td>\n",
       "      <td>wysoka cena</td>\n",
       "      <td>tak</td>\n",
       "      <td>tak</td>\n",
       "      <td>tak</td>\n",
       "      <td>tak</td>\n",
       "      <td>tak</td>\n",
       "      <td>nie</td>\n",
       "    </tr>\n",
       "    <tr>\n",
       "      <th>3</th>\n",
       "      <td>615</td>\n",
       "      <td>2.5</td>\n",
       "      <td>0</td>\n",
       "      <td>10</td>\n",
       "      <td>0.8</td>\n",
       "      <td>131</td>\n",
       "      <td>6</td>\n",
       "      <td>9</td>\n",
       "      <td>1216</td>\n",
       "      <td>1786</td>\n",
       "      <td>2769</td>\n",
       "      <td>16</td>\n",
       "      <td>8</td>\n",
       "      <td>11</td>\n",
       "      <td>wysoka cena</td>\n",
       "      <td>tak</td>\n",
       "      <td>nie</td>\n",
       "      <td>nie</td>\n",
       "      <td>tak</td>\n",
       "      <td>nie</td>\n",
       "      <td>nie</td>\n",
       "    </tr>\n",
       "    <tr>\n",
       "      <th>4</th>\n",
       "      <td>1821</td>\n",
       "      <td>1.2</td>\n",
       "      <td>13</td>\n",
       "      <td>44</td>\n",
       "      <td>0.6</td>\n",
       "      <td>141</td>\n",
       "      <td>2</td>\n",
       "      <td>14</td>\n",
       "      <td>1208</td>\n",
       "      <td>1212</td>\n",
       "      <td>1411</td>\n",
       "      <td>8</td>\n",
       "      <td>2</td>\n",
       "      <td>15</td>\n",
       "      <td>średnia cena</td>\n",
       "      <td>tak</td>\n",
       "      <td>nie</td>\n",
       "      <td>tak</td>\n",
       "      <td>tak</td>\n",
       "      <td>tak</td>\n",
       "      <td>nie</td>\n",
       "    </tr>\n",
       "  </tbody>\n",
       "</table>\n",
       "</div>"
      ],
      "text/plain": [
       "   battery_power  clock_speed  fc  ...  x_three_g  x_touch_screen  x_wifi\n",
       "0            842          2.2   1  ...        nie             nie     tak\n",
       "1           1021          0.5   0  ...        tak             tak     nie\n",
       "2            563          0.5   2  ...        tak             tak     nie\n",
       "3            615          2.5   0  ...        tak             nie     nie\n",
       "4           1821          1.2  13  ...        tak             tak     nie\n",
       "\n",
       "[5 rows x 21 columns]"
      ]
     },
     "execution_count": 224,
     "metadata": {
      "tags": []
     },
     "output_type": "execute_result"
    }
   ],
   "source": [
    "dane_kategorie = dane.copy()\n",
    "\n",
    "nazwy = kategorie.Nazwa.values.tolist()\n",
    "slownik = {0: 'nie', 1: 'tak'}\n",
    "\n",
    "for element in nazwy:\n",
    "    zm = 'x_'+element\n",
    "    dane_kategorie[zm] = dane[element].map(slownik) \n",
    "    del dane_kategorie[element]\n",
    "    \n",
    "    \n",
    "slownik2 = {0: 'niska cena', 1: 'średnia cena', 2: 'wysoka cena', 3: 'b. wysoka cena'}\n",
    "dane_kategorie['price_range'] = dane_kategorie['price_range'].map(slownik2)\n",
    "\n",
    "dane_kategorie.head()"
   ]
  },
  {
   "cell_type": "code",
   "execution_count": 0,
   "metadata": {
    "colab": {
     "base_uri": "https://localhost:8080/",
     "height": 1000
    },
    "colab_type": "code",
    "executionInfo": {
     "elapsed": 9127,
     "status": "ok",
     "timestamp": 1569190658687,
     "user": {
      "displayName": "Krzysztof Bruszewski",
      "photoUrl": "https://lh3.googleusercontent.com/a-/AAuE7mD8XjPIbmFmobTGjPD9InAcNJs6OPEd3spUgIN9RQ=s64",
      "userId": "11139975063881261812"
     },
     "user_tz": -120
    },
    "id": "-_1QP_7Yc67Z",
    "outputId": "158953ea-5901-4bea-bf40-004b8fd6b978"
   },
   "outputs": [
    {
     "data": {
      "image/png": "[encoded data removed]",
      "text/plain": [
       "<Figure size 432x288 with 1 Axes>"
      ]
     },
     "metadata": {
      "tags": []
     },
     "output_type": "display_data"
    },
    {
     "data": {
      "image/png": "[encoded data removed]",
      "text/plain": [
       "<Figure size 432x288 with 1 Axes>"
      ]
     },
     "metadata": {
      "tags": []
     },
     "output_type": "display_data"
    },
    {
     "data": {
      "image/png": "[encoded data removed]",
      "text/plain": [
       "<Figure size 432x288 with 1 Axes>"
      ]
     },
     "metadata": {
      "tags": []
     },
     "output_type": "display_data"
    },
    {
     "data": {
      "image/png": "[encoded data removed]",
      "text/plain": [
       "<Figure size 432x288 with 1 Axes>"
      ]
     },
     "metadata": {
      "tags": []
     },
     "output_type": "display_data"
    },
    {
     "data": {
      "image/png": "[encoded data removed]",
      "text/plain": [
       "<Figure size 432x288 with 1 Axes>"
      ]
     },
     "metadata": {
      "tags": []
     },
     "output_type": "display_data"
    },
    {
     "data": {
      "image/png": "[encoded data removed]",
      "text/plain": [
       "<Figure size 432x288 with 1 Axes>"
      ]
     },
     "metadata": {
      "tags": []
     },
     "output_type": "display_data"
    }
   ],
   "source": [
    "poziomy = Poziomy(dane_kategorie)\n",
    "kategorie = poziomy.query(\"Nazwa not in ('\"+target+\"') and Poziom == 'dyskret'\")\n",
    "nazwy = kategorie.Nazwa.values.tolist()\n",
    "\n",
    "for element in nazwy:\n",
    "  y = dane_kategorie[target]\n",
    "  x = dane_kategorie[element]\n",
    "  tab = pd.crosstab(y, x)\n",
    "  num = tab.values\n",
    "\n",
    "  fig, ax = plt.subplots()\n",
    "  im = ax.imshow(num, cmap='copper')\n",
    "\n",
    "  tx = tab.columns.get_values()\n",
    "  ty = tab.index.get_values()\n",
    "  ax.set_xticks(np.arange(len(tx)))\n",
    "  ax.set_yticks(np.arange(len(ty)))\n",
    "  ax.set_xticklabels(tx)\n",
    "  ax.set_yticklabels(ty)\n",
    "\n",
    "  plt.setp(ax.get_xticklabels(), rotation=45, ha=\"right\", rotation_mode=\"anchor\")\n",
    "\n",
    "  for i in range(len(ty)):\n",
    "      for j in range(len(tx)):\n",
    "          text = ax.text(j, i, num[i, j], ha=\"center\", va=\"center\", color=\"w\")\n",
    "        \n",
    "  ax.set_title(x.name)\n",
    "  fig.tight_layout()\n",
    "  plt.show();"
   ]
  },
  {
   "cell_type": "code",
   "execution_count": 0,
   "metadata": {
    "colab": {},
    "colab_type": "code",
    "id": "9MOUI-PMg7BR"
   },
   "outputs": [],
   "source": [
    "from scipy.stats import chi2_contingency\n",
    "from scipy.stats import chi2\n",
    "\n",
    "def Czy_zaleznosc(v1, v2):\n",
    "  c = pd.crosstab(v1, v2)\n",
    "  t = c.values\n",
    "  stat, p, dof, expected = chi2_contingency(t)\n",
    "  # print('dof=%d' % dof)\n",
    "  # print(t)\n",
    "  # print(expected)\n",
    "  alpha = 0.05\n",
    "  # print('significance=%.3f, p=%.3f' % (alpha, p))\n",
    "  if p <= alpha:\n",
    "\t   return True, p\n",
    "  else:\n",
    "\t   return False, p"
   ]
  },
  {
   "cell_type": "code",
   "execution_count": 0,
   "metadata": {
    "colab": {
     "base_uri": "https://localhost:8080/",
     "height": 235
    },
    "colab_type": "code",
    "executionInfo": {
     "elapsed": 9079,
     "status": "ok",
     "timestamp": 1569190658692,
     "user": {
      "displayName": "Krzysztof Bruszewski",
      "photoUrl": "https://lh3.googleusercontent.com/a-/AAuE7mD8XjPIbmFmobTGjPD9InAcNJs6OPEd3spUgIN9RQ=s64",
      "userId": "11139975063881261812"
     },
     "user_tz": -120
    },
    "id": "HEL0gucnl51W",
    "outputId": "c109a533-0ea4-40fe-9dd2-cc773c4f776a"
   },
   "outputs": [
    {
     "data": {
      "text/html": [
       "<div>\n",
       "<style scoped>\n",
       "    .dataframe tbody tr th:only-of-type {\n",
       "        vertical-align: middle;\n",
       "    }\n",
       "\n",
       "    .dataframe tbody tr th {\n",
       "        vertical-align: top;\n",
       "    }\n",
       "\n",
       "    .dataframe thead th {\n",
       "        text-align: right;\n",
       "    }\n",
       "</style>\n",
       "<table border=\"1\" class=\"dataframe\">\n",
       "  <thead>\n",
       "    <tr style=\"text-align: right;\">\n",
       "      <th></th>\n",
       "      <th>Nazwa</th>\n",
       "      <th>Zaleznosc</th>\n",
       "      <th>p_value</th>\n",
       "    </tr>\n",
       "  </thead>\n",
       "  <tbody>\n",
       "    <tr>\n",
       "      <th>0</th>\n",
       "      <td>x_blue</td>\n",
       "      <td>Nie</td>\n",
       "      <td>0.698018</td>\n",
       "    </tr>\n",
       "    <tr>\n",
       "      <th>0</th>\n",
       "      <td>x_dual_sim</td>\n",
       "      <td>Nie</td>\n",
       "      <td>0.732350</td>\n",
       "    </tr>\n",
       "    <tr>\n",
       "      <th>0</th>\n",
       "      <td>x_four_g</td>\n",
       "      <td>Nie</td>\n",
       "      <td>0.364714</td>\n",
       "    </tr>\n",
       "    <tr>\n",
       "      <th>0</th>\n",
       "      <td>x_three_g</td>\n",
       "      <td>Nie</td>\n",
       "      <td>0.711696</td>\n",
       "    </tr>\n",
       "    <tr>\n",
       "      <th>0</th>\n",
       "      <td>x_touch_screen</td>\n",
       "      <td>Nie</td>\n",
       "      <td>0.274701</td>\n",
       "    </tr>\n",
       "    <tr>\n",
       "      <th>0</th>\n",
       "      <td>x_wifi</td>\n",
       "      <td>Nie</td>\n",
       "      <td>0.835991</td>\n",
       "    </tr>\n",
       "  </tbody>\n",
       "</table>\n",
       "</div>"
      ],
      "text/plain": [
       "            Nazwa Zaleznosc   p_value\n",
       "0          x_blue       Nie  0.698018\n",
       "0      x_dual_sim       Nie  0.732350\n",
       "0        x_four_g       Nie  0.364714\n",
       "0       x_three_g       Nie  0.711696\n",
       "0  x_touch_screen       Nie  0.274701\n",
       "0          x_wifi       Nie  0.835991"
      ]
     },
     "metadata": {
      "tags": []
     },
     "output_type": "display_data"
    }
   ],
   "source": [
    "poziomy = Poziomy(dane_kategorie)\n",
    "kategorie = poziomy.query(\"Nazwa not in ('\"+target+\"') and Poziom == 'dyskret'\")\n",
    "zmienna_celu_kat = dane_kategorie.price_range\n",
    "nazwy = kategorie.Nazwa.values.tolist()\n",
    "\n",
    "nazwa = pd.Series()\n",
    "zaleznosc = pd.Series()\n",
    "pv = pd.Series()\n",
    "\n",
    "for element in nazwy:\n",
    "  kols = pd.Series(element)\n",
    "  nazwa = nazwa.append(kols)\n",
    "  zm = dane_kategorie[element]\n",
    "  z, p = Czy_zaleznosc(zm,zmienna_celu_kat)\n",
    "  zs = pd.Series(z)\n",
    "  zaleznosc = zaleznosc.append(zs)\n",
    "  ps = pd.Series(p)\n",
    "  pv = pv.append(ps)\n",
    "\n",
    "pz = pd.DataFrame({'Nazwa':nazwa, 'Zaleznosc':zaleznosc, 'p_value':pv})\n",
    "slownik = {False: 'Nie', True: 'Tak'}\n",
    "pz.Zaleznosc = pz.Zaleznosc.map(slownik)\n",
    "\n",
    "display(pz)\n",
    "\n",
    "# Na podstawie \"dużych\" (alpha>0.05) wartość p-value stwierdzam brak zależności miedzy zmiennymi objaśniającymi a zmienną celu "
   ]
  },
  {
   "cell_type": "code",
   "execution_count": 0,
   "metadata": {
    "colab": {
     "base_uri": "https://localhost:8080/",
     "height": 531
    },
    "colab_type": "code",
    "executionInfo": {
     "elapsed": 9641,
     "status": "ok",
     "timestamp": 1569190659276,
     "user": {
      "displayName": "Krzysztof Bruszewski",
      "photoUrl": "https://lh3.googleusercontent.com/a-/AAuE7mD8XjPIbmFmobTGjPD9InAcNJs6OPEd3spUgIN9RQ=s64",
      "userId": "11139975063881261812"
     },
     "user_tz": -120
    },
    "id": "kzrDSp0ExgbG",
    "outputId": "7b9f430a-9013-484b-e42e-9c1acfc54fe8"
   },
   "outputs": [
    {
     "name": "stdout",
     "output_type": "stream",
     "text": [
      "coefficient of determination: 0.92\n"
     ]
    },
    {
     "data": {
      "text/html": [
       "<div>\n",
       "<style scoped>\n",
       "    .dataframe tbody tr th:only-of-type {\n",
       "        vertical-align: middle;\n",
       "    }\n",
       "\n",
       "    .dataframe tbody tr th {\n",
       "        vertical-align: top;\n",
       "    }\n",
       "\n",
       "    .dataframe thead th {\n",
       "        text-align: right;\n",
       "    }\n",
       "</style>\n",
       "<table border=\"1\" class=\"dataframe\">\n",
       "  <thead>\n",
       "    <tr style=\"text-align: right;\">\n",
       "      <th></th>\n",
       "      <th>Współczynniki</th>\n",
       "    </tr>\n",
       "  </thead>\n",
       "  <tbody>\n",
       "    <tr>\n",
       "      <th>intercept</th>\n",
       "      <td>1.500000</td>\n",
       "    </tr>\n",
       "    <tr>\n",
       "      <th>battery_power</th>\n",
       "      <td>0.224567</td>\n",
       "    </tr>\n",
       "    <tr>\n",
       "      <th>clock_speed</th>\n",
       "      <td>-0.010152</td>\n",
       "    </tr>\n",
       "    <tr>\n",
       "      <th>fc</th>\n",
       "      <td>0.004219</td>\n",
       "    </tr>\n",
       "    <tr>\n",
       "      <th>int_memory</th>\n",
       "      <td>0.015757</td>\n",
       "    </tr>\n",
       "    <tr>\n",
       "      <th>m_dep</th>\n",
       "      <td>-0.002458</td>\n",
       "    </tr>\n",
       "    <tr>\n",
       "      <th>mobile_wt</th>\n",
       "      <td>-0.030960</td>\n",
       "    </tr>\n",
       "    <tr>\n",
       "      <th>n_cores</th>\n",
       "      <td>0.004334</td>\n",
       "    </tr>\n",
       "    <tr>\n",
       "      <th>pc</th>\n",
       "      <td>0.000813</td>\n",
       "    </tr>\n",
       "    <tr>\n",
       "      <th>px_height</th>\n",
       "      <td>0.121997</td>\n",
       "    </tr>\n",
       "    <tr>\n",
       "      <th>px_width</th>\n",
       "      <td>0.120695</td>\n",
       "    </tr>\n",
       "    <tr>\n",
       "      <th>ram</th>\n",
       "      <td>1.026672</td>\n",
       "    </tr>\n",
       "    <tr>\n",
       "      <th>sc_h</th>\n",
       "      <td>0.004844</td>\n",
       "    </tr>\n",
       "    <tr>\n",
       "      <th>sc_w</th>\n",
       "      <td>-0.001262</td>\n",
       "    </tr>\n",
       "    <tr>\n",
       "      <th>talk_time</th>\n",
       "      <td>0.002203</td>\n",
       "    </tr>\n",
       "  </tbody>\n",
       "</table>\n",
       "</div>"
      ],
      "text/plain": [
       "               Współczynniki\n",
       "intercept           1.500000\n",
       "battery_power       0.224567\n",
       "clock_speed        -0.010152\n",
       "fc                  0.004219\n",
       "int_memory          0.015757\n",
       "m_dep              -0.002458\n",
       "mobile_wt          -0.030960\n",
       "n_cores             0.004334\n",
       "pc                  0.000813\n",
       "px_height           0.121997\n",
       "px_width            0.120695\n",
       "ram                 1.026672\n",
       "sc_h                0.004844\n",
       "sc_w               -0.001262\n",
       "talk_time           0.002203"
      ]
     },
     "metadata": {
      "tags": []
     },
     "output_type": "display_data"
    }
   ],
   "source": [
    "from sklearn.linear_model import LinearRegression\n",
    "from sklearn import preprocessing\n",
    "\n",
    "poziomy = Poziomy(dane)\n",
    "numeryczne = poziomy.query(\"Nazwa not in ('\"+target+\"') and Poziom == 'num'\")\n",
    "\n",
    "nazwy = numeryczne.Nazwa.values.tolist()\n",
    "\n",
    "X = dane[nazwy]\n",
    "# display(pd.DataFrame(X).head())\n",
    "X_scaled = preprocessing.scale(X)\n",
    "# display(pd.DataFrame(X_scaled).head())\n",
    "y = dane[target].values\n",
    "# display(pd.DataFrame(y).head())\n",
    "\n",
    "regresja = LinearRegression()  \n",
    "regresja.fit(X_scaled, y)\n",
    "\n",
    "r_sq = regresja.score(X_scaled, y)\n",
    "print('coefficient of determination:', round(r_sq,2))\n",
    "\n",
    "i = regresja.intercept_\n",
    "w = [['intercept', i]]\n",
    "d = pd.DataFrame(w, columns = ['index', 'Współczynniki']) \n",
    "d.set_index('index', drop=True, inplace=True)\n",
    "\n",
    "coeff_df = pd.DataFrame(regresja.coef_, nazwy, columns=['Współczynniki']) \n",
    "\n",
    "f = pd.concat([d, coeff_df])\n",
    "display(f)"
   ]
  },
  {
   "cell_type": "code",
   "execution_count": 0,
   "metadata": {
    "colab": {
     "base_uri": "https://localhost:8080/",
     "height": 300
    },
    "colab_type": "code",
    "executionInfo": {
     "elapsed": 9628,
     "status": "ok",
     "timestamp": 1569190659280,
     "user": {
      "displayName": "Krzysztof Bruszewski",
      "photoUrl": "https://lh3.googleusercontent.com/a-/AAuE7mD8XjPIbmFmobTGjPD9InAcNJs6OPEd3spUgIN9RQ=s64",
      "userId": "11139975063881261812"
     },
     "user_tz": -120
    },
    "id": "0HNb1yWJ78oK",
    "outputId": "78359e21-85ac-4871-a3fb-afccd2f9b8da"
   },
   "outputs": [
    {
     "name": "stderr",
     "output_type": "stream",
     "text": [
      "/usr/local/lib/python3.6/dist-packages/numpy/core/fromnumeric.py:2389: FutureWarning: Method .ptp is deprecated and will be removed in a future version. Use numpy.ptp instead.\n",
      "  return ptp(axis=axis, out=out, **kwargs)\n"
     ]
    },
    {
     "data": {
      "text/html": [
       "<div>\n",
       "<style scoped>\n",
       "    .dataframe tbody tr th:only-of-type {\n",
       "        vertical-align: middle;\n",
       "    }\n",
       "\n",
       "    .dataframe tbody tr th {\n",
       "        vertical-align: top;\n",
       "    }\n",
       "\n",
       "    .dataframe thead th {\n",
       "        text-align: right;\n",
       "    }\n",
       "</style>\n",
       "<table border=\"1\" class=\"dataframe\">\n",
       "  <thead>\n",
       "    <tr style=\"text-align: right;\">\n",
       "      <th></th>\n",
       "      <th>p-value</th>\n",
       "    </tr>\n",
       "  </thead>\n",
       "  <tbody>\n",
       "    <tr>\n",
       "      <th>const</th>\n",
       "      <td>0.000000</td>\n",
       "    </tr>\n",
       "    <tr>\n",
       "      <th>battery_power</th>\n",
       "      <td>0.000000</td>\n",
       "    </tr>\n",
       "    <tr>\n",
       "      <th>int_memory</th>\n",
       "      <td>0.028620</td>\n",
       "    </tr>\n",
       "    <tr>\n",
       "      <th>mobile_wt</th>\n",
       "      <td>0.000017</td>\n",
       "    </tr>\n",
       "    <tr>\n",
       "      <th>px_height</th>\n",
       "      <td>0.000000</td>\n",
       "    </tr>\n",
       "    <tr>\n",
       "      <th>px_width</th>\n",
       "      <td>0.000000</td>\n",
       "    </tr>\n",
       "    <tr>\n",
       "      <th>ram</th>\n",
       "      <td>0.000000</td>\n",
       "    </tr>\n",
       "  </tbody>\n",
       "</table>\n",
       "</div>"
      ],
      "text/plain": [
       "                p-value\n",
       "const          0.000000\n",
       "battery_power  0.000000\n",
       "int_memory     0.028620\n",
       "mobile_wt      0.000017\n",
       "px_height      0.000000\n",
       "px_width       0.000000\n",
       "ram            0.000000"
      ]
     },
     "metadata": {
      "tags": []
     },
     "output_type": "display_data"
    }
   ],
   "source": [
    "import statsmodels.api as sm\n",
    "\n",
    "X_scaled2 = pd.DataFrame(X_scaled)\n",
    "X_scaled2.columns = nazwy\n",
    "X_scaled2 = sm.add_constant(X_scaled2);\n",
    "\n",
    "model = sm.OLS(y,X_scaled2).fit()\n",
    "\n",
    "f=pd.DataFrame(round(model.pvalues, 6), columns=['p-value'])\n",
    "f = f.loc[f['p-value'] < 0.05]\n",
    "display(f)\n",
    "\n",
    "# Na podstawie \"niskich\" (alpha<0.05) wartość p-value stwierdzam, że zmienne: battery_power, int_memory, mobile_wt, px_height, px_width i ram mają wpływ na cenę telefonu"
   ]
  },
  {
   "cell_type": "code",
   "execution_count": 0,
   "metadata": {
    "colab": {
     "base_uri": "https://localhost:8080/",
     "height": 204
    },
    "colab_type": "code",
    "executionInfo": {
     "elapsed": 9617,
     "status": "ok",
     "timestamp": 1569190659286,
     "user": {
      "displayName": "Krzysztof Bruszewski",
      "photoUrl": "https://lh3.googleusercontent.com/a-/AAuE7mD8XjPIbmFmobTGjPD9InAcNJs6OPEd3spUgIN9RQ=s64",
      "userId": "11139975063881261812"
     },
     "user_tz": -120
    },
    "id": "tb9HUkT81pu7",
    "outputId": "68eb73dd-cfba-474c-d3fb-dbb343d89369"
   },
   "outputs": [
    {
     "data": {
      "text/html": [
       "<div>\n",
       "<style scoped>\n",
       "    .dataframe tbody tr th:only-of-type {\n",
       "        vertical-align: middle;\n",
       "    }\n",
       "\n",
       "    .dataframe tbody tr th {\n",
       "        vertical-align: top;\n",
       "    }\n",
       "\n",
       "    .dataframe thead th {\n",
       "        text-align: right;\n",
       "    }\n",
       "</style>\n",
       "<table border=\"1\" class=\"dataframe\">\n",
       "  <thead>\n",
       "    <tr style=\"text-align: right;\">\n",
       "      <th>price_range_pred</th>\n",
       "      <th>b. wysoka cena</th>\n",
       "      <th>niska cena</th>\n",
       "      <th>wysoka cena</th>\n",
       "      <th>średnia cena</th>\n",
       "    </tr>\n",
       "    <tr>\n",
       "      <th>price_range</th>\n",
       "      <th></th>\n",
       "      <th></th>\n",
       "      <th></th>\n",
       "      <th></th>\n",
       "    </tr>\n",
       "  </thead>\n",
       "  <tbody>\n",
       "    <tr>\n",
       "      <th>b. wysoka cena</th>\n",
       "      <td>422</td>\n",
       "      <td>0</td>\n",
       "      <td>78</td>\n",
       "      <td>0</td>\n",
       "    </tr>\n",
       "    <tr>\n",
       "      <th>niska cena</th>\n",
       "      <td>0</td>\n",
       "      <td>446</td>\n",
       "      <td>0</td>\n",
       "      <td>54</td>\n",
       "    </tr>\n",
       "    <tr>\n",
       "      <th>wysoka cena</th>\n",
       "      <td>1</td>\n",
       "      <td>0</td>\n",
       "      <td>474</td>\n",
       "      <td>25</td>\n",
       "    </tr>\n",
       "    <tr>\n",
       "      <th>średnia cena</th>\n",
       "      <td>0</td>\n",
       "      <td>1</td>\n",
       "      <td>9</td>\n",
       "      <td>490</td>\n",
       "    </tr>\n",
       "  </tbody>\n",
       "</table>\n",
       "</div>"
      ],
      "text/plain": [
       "price_range_pred  b. wysoka cena  niska cena  wysoka cena  średnia cena\n",
       "price_range                                                            \n",
       "b. wysoka cena               422           0           78             0\n",
       "niska cena                     0         446            0            54\n",
       "wysoka cena                    1           0          474            25\n",
       "średnia cena                   0           1            9           490"
      ]
     },
     "metadata": {
      "tags": []
     },
     "output_type": "display_data"
    }
   ],
   "source": [
    "y_pred = regresja.predict(X_scaled)\n",
    "target2 = target+'_pred'\n",
    "porownanie = pd.DataFrame({target: y.flatten(), target2: y_pred.flatten()})\n",
    "porownanie[target2]=porownanie[target2].apply(lambda x: 0 if x <= 0 else x)\n",
    "porownanie[target2]=porownanie[target2].apply(lambda x: 3 if x >= 3 else x)\n",
    "porownanie[target2]=porownanie[target2].round(0) \n",
    "porownanie[target2]=porownanie[target2].astype(int)\n",
    "\n",
    "slownik = {0: 'niska cena', 1: 'średnia cena', 2: 'wysoka cena', 3: 'b. wysoka cena'}\n",
    "porownanie[target] = porownanie[target].map(slownik)\n",
    "porownanie[target2] = porownanie[target2].map(slownik)\n",
    "\n",
    "c = pd.crosstab(porownanie[target], porownanie[target2])\n",
    "display(c)"
   ]
  }
 ],
 "metadata": {
  "colab": {
   "collapsed_sections": [],
   "name": "LabMasters_Egzamin.ipynb",
   "provenance": []
  },
  "kernelspec": {
   "display_name": "Python 3",
   "language": "python",
   "name": "python3"
  },
  "language_info": {
   "codemirror_mode": {
    "name": "ipython",
    "version": 3
   },
   "file_extension": ".py",
   "mimetype": "text/x-python",
   "name": "python",
   "nbconvert_exporter": "python",
   "pygments_lexer": "ipython3",
   "version": "3.6.5"
  }
 },
 "nbformat": 4,
 "nbformat_minor": 1
}
