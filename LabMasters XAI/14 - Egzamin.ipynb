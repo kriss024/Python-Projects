{
 "cells": [
  {
   "cell_type": "markdown",
   "id": "be245326",
   "metadata": {},
   "source": [
    "![alt text](img/LM.png)\n",
    "# Kurs: Warsztaty Machine learning w Pythonie\n",
    "\n",
    "## Prowadzący: Piotr Ćwiakowski\n",
    "\n",
    "## Autorzy: Piotr Ćwiakowski, Maciej Wilamowski\n",
    "\n",
    "### Lekcja 14. Egzamin\n",
    "\n",
    "W celu zaliczenia egzaminu należy rozwiązać **jedno** z poniższych zadań. W każdym zadaniu należy wykonać, adekwatnie do analizowanego zbioru:\n",
    "\n",
    "1) wstępną analizę EDA (*Explonatory Data Analysis*) w celu rozpoznania informacji w zbiorze (możesz zasugerować się wykonanymi w Internecie analizami, przy czym w analizie zbioru tekstowego, obrazów i zwykłych plików płaskich wygląda ona nieco inaczej - najmniej potrzebna jest w przypadku analizy obrazów).  \n",
    "2) etap **feature engineering**, w którym wytworzymy/przekształcimy/dołączymy nowe zmienne - oczywiście adekwatnie do zadania (najmniej będzie to potrzebne w analizie obrazów).  \n",
    "3) zbudować jak najlepszy model predykcyjny wykorzystując techniki modelowania poznane na zajęciach oraz walidację krzyżową.\n",
    "\n",
    "Rozwiązanie należy przesłać w dowolnym terminie na adres <pcwiakowski@labmasters.pl> i umówić się z prowadzącym na krótkie spotkanie (do 15 minut), na którym zostanie omówione (w swobodnej dyskusji) rozwiązane zaproponowane przez uczestnika.\n",
    "\n",
    "W razie pytań zapraszam do kontaktu na podany powyżej adres email.\n",
    "\n",
    "<center><h3>Powodzenia! </h3></center>"
   ]
  },
  {
   "cell_type": "markdown",
   "id": "dbb01584",
   "metadata": {},
   "source": [
    "# Zadanie 1.\n",
    "\n",
    "Wczytaj dane o spłacalności kredytów (źródło: https://www.kaggle.com/c/credit-default-prediction-ai-big-data). Sprawdzając co najmniej 5 różnych rozwiązań wytrenuj poprzez walidacje krzyżową jak najlepszy model predykcyjny. Następnie dla najlepszego modelu zastosuj techniki XAI do opisu działania zmiennych w modelu. Dla przykladowych obserwacji przygotuj lokalne objaśnienie predykcji. "
   ]
  },
  {
   "cell_type": "code",
   "execution_count": null,
   "id": "7eeb9db3",
   "metadata": {},
   "outputs": [],
   "source": []
  },
  {
   "cell_type": "markdown",
   "id": "d3f2670f",
   "metadata": {},
   "source": [
    "# Zadanie 2. \n",
    "Wczytaj dane dotyczące recenzji filmów (zbiór treningowy i testowy). Przeprowadź czyszczenie danych (m. in. usuwanie stopwords, lematyzacja, tokenizacja). Następnie na zbiorze treningowym dokonaj wyboru i walidacji modelu prognozującego sentyment recenzji (pozytywny/negatywny. Następnie na zbiorze testowym dokonaj ewaluacji modelu za pomocą różnych metryk."
   ]
  },
  {
   "cell_type": "code",
   "execution_count": null,
   "id": "b39a03b5",
   "metadata": {},
   "outputs": [],
   "source": []
  },
  {
   "cell_type": "markdown",
   "id": "d2f014ba",
   "metadata": {},
   "source": [
    "# Zadanie 3.\n",
    "\n",
    "Wykonaj sieć neuronową (wykorzystując architektury MLP, CNN), w której stworzysz model klasyfikujący czy na zdjęciu pojawia się Obcy (istota z serii filmów sf zapoczątkowanej filmej Ridleya Scotta *Obcy. Ósmy pasażer Nostromo)* czy Predator (istota z serii zapoczątkowanej udanymi filmami *Predator 1* i *Predator 2*). Twoim zadaniem jest:\n",
    "- wczytanie danych,\n",
    "- oflagowanie obserwacji (zmienna objaśniana binarna predator/obcy) dla zbioru treningowego i testowego,\n",
    "- wytrenowanie odpowiedniej sieci neuronowej na zbiorze treningowym,\n",
    "- ewaluacja jej na zbiorze testowym."
   ]
  },
  {
   "cell_type": "code",
   "execution_count": null,
   "id": "44c92d4f",
   "metadata": {},
   "outputs": [],
   "source": []
  }
 ],
 "metadata": {
  "kernelspec": {
   "display_name": "Python 3 (ipykernel)",
   "language": "python",
   "name": "python3"
  },
  "language_info": {
   "codemirror_mode": {
    "name": "ipython",
    "version": 3
   },
   "file_extension": ".py",
   "mimetype": "text/x-python",
   "name": "python",
   "nbconvert_exporter": "python",
   "pygments_lexer": "ipython3",
   "version": "3.9.12"
  }
 },
 "nbformat": 4,
 "nbformat_minor": 5
}
